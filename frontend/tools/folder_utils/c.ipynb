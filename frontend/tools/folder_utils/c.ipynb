{
 "cells": [
  {
   "cell_type": "code",
   "execution_count": 7,
   "metadata": {},
   "outputs": [],
   "source": [
    "res = \"\"\n",
    "\n",
    "with open('redownload.txt', 'r') as f:\n",
    "    for line in f:\n",
    "        res += line.split('\\\\')[6] + '\\n'\n",
    "        \n",
    "with open('result.txt', 'w') as f:\n",
    "    f.write(res)\n"
   ]
  }
 ],
 "metadata": {
  "kernelspec": {
   "display_name": "web",
   "language": "python",
   "name": "python3"
  },
  "language_info": {
   "codemirror_mode": {
    "name": "ipython",
    "version": 3
   },
   "file_extension": ".py",
   "mimetype": "text/x-python",
   "name": "python",
   "nbconvert_exporter": "python",
   "pygments_lexer": "ipython3",
   "version": "3.12.4"
  }
 },
 "nbformat": 4,
 "nbformat_minor": 2
}
