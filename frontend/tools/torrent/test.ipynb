{
 "cells": [
  {
   "cell_type": "code",
   "execution_count": 8,
   "metadata": {},
   "outputs": [],
   "source": [
    "import qbittorrentapi\n",
    "from rich import print\n",
    "\n",
    "# instantiate a Client using the appropriate WebUI configuration\n",
    "conn_info = dict(\n",
    "    host=\"10.16.51.242\",\n",
    "    port=8080,\n",
    "    username=\"mythezone\",\n",
    "    password=\"19891016Zmy!\",\n",
    ")\n",
    "qbt_client = qbittorrentapi.Client(**conn_info)"
   ]
  },
  {
   "cell_type": "code",
   "execution_count": 2,
   "metadata": {},
   "outputs": [
    {
     "name": "stdout",
     "output_type": "stream",
     "text": [
      "qBittorrent Web API: login successful\n"
     ]
    }
   ],
   "source": [
    "try:\n",
    "    qbt_client.auth_log_in()\n",
    "    print(\"qBittorrent Web API: login successful\")\n",
    "except qbittorrentapi.LoginFailed as e:\n",
    "    print(e)"
   ]
  },
  {
   "cell_type": "code",
   "execution_count": 3,
   "metadata": {},
   "outputs": [
    {
     "name": "stdout",
     "output_type": "stream",
     "text": [
      "qBittorrent: v4.5.5\n"
     ]
    }
   ],
   "source": [
    "print(f\"qBittorrent: {qbt_client.app.version}\")"
   ]
  },
  {
   "cell_type": "code",
   "execution_count": 4,
   "metadata": {},
   "outputs": [
    {
     "name": "stdout",
     "output_type": "stream",
     "text": [
      "qBittorrent Web API: 2.8.19\n"
     ]
    }
   ],
   "source": [
    "print(f\"qBittorrent Web API: {qbt_client.app.web_api_version}\")"
   ]
  },
  {
   "cell_type": "code",
   "execution_count": 5,
   "metadata": {},
   "outputs": [
    {
     "name": "stdout",
     "output_type": "stream",
     "text": [
      "bitness: 64\n",
      "boost: 1.82.0\n",
      "libtorrent: 2.0.9.0\n",
      "openssl: 3.1.2\n",
      "qt: 6.5.2\n",
      "zlib: 1.3\n"
     ]
    }
   ],
   "source": [
    "for k, v in qbt_client.app.build_info.items():\n",
    "    print(f\"{k}: {v}\")"
   ]
  },
  {
   "cell_type": "code",
   "execution_count": null,
   "metadata": {},
   "outputs": [
    {
     "data": {
      "text/html": [
       "<pre style=\"white-space:pre;overflow-x:auto;line-height:normal;font-family:Menlo,'DejaVu Sans Mono',consolas,'Courier New',monospace\"><span style=\"font-weight: bold\">[</span>\n",
       "    <span style=\"color: #800080; text-decoration-color: #800080; font-weight: bold\">TorrentFile</span><span style=\"font-weight: bold\">({</span><span style=\"color: #008000; text-decoration-color: #008000\">'availability'</span>: <span style=\"color: #008080; text-decoration-color: #008080; font-weight: bold\">0.08528951486697965</span>, <span style=\"color: #008000; text-decoration-color: #008000\">'index'</span>: <span style=\"color: #008080; text-decoration-color: #008080; font-weight: bold\">0</span>, <span style=\"color: #008000; text-decoration-color: #008000\">'is_seed'</span>: <span style=\"color: #ff0000; text-decoration-color: #ff0000; font-style: italic\">False</span>, <span style=\"color: #008000; text-decoration-color: #008000\">'name'</span>: \n",
       "<span style=\"color: #008000; text-decoration-color: #008000\">'mide-724/mide-724.mp4'</span>, <span style=\"color: #008000; text-decoration-color: #008000\">'piece_range'</span>: <span style=\"font-weight: bold\">[</span><span style=\"color: #008080; text-decoration-color: #008080; font-weight: bold\">0</span>, <span style=\"color: #008080; text-decoration-color: #008080; font-weight: bold\">1277</span><span style=\"font-weight: bold\">]</span>, <span style=\"color: #008000; text-decoration-color: #008000\">'priority'</span>: <span style=\"color: #008080; text-decoration-color: #008080; font-weight: bold\">1</span>, <span style=\"color: #008000; text-decoration-color: #008000\">'progress'</span>: <span style=\"color: #008080; text-decoration-color: #008080; font-weight: bold\">0.01722359988798177</span>, <span style=\"color: #008000; text-decoration-color: #008000\">'size'</span>: \n",
       "<span style=\"color: #008080; text-decoration-color: #008080; font-weight: bold\">10714913096</span>, <span style=\"color: #008000; text-decoration-color: #008000\">'id'</span>: <span style=\"color: #008080; text-decoration-color: #008080; font-weight: bold\">0</span><span style=\"font-weight: bold\">})</span>,\n",
       "    <span style=\"color: #800080; text-decoration-color: #800080; font-weight: bold\">TorrentFile</span><span style=\"font-weight: bold\">({</span><span style=\"color: #008000; text-decoration-color: #008000\">'availability'</span>: <span style=\"color: #008080; text-decoration-color: #008080; font-weight: bold\">0.3333333333333333</span>, <span style=\"color: #008000; text-decoration-color: #008000\">'index'</span>: <span style=\"color: #008080; text-decoration-color: #008080; font-weight: bold\">1</span>, <span style=\"color: #008000; text-decoration-color: #008000\">'name'</span>: <span style=\"color: #008000; text-decoration-color: #008000\">'mide-724/UUE29.mp4'</span>, <span style=\"color: #008000; text-decoration-color: #008000\">'piece_range'</span>: \n",
       "<span style=\"font-weight: bold\">[</span><span style=\"color: #008080; text-decoration-color: #008080; font-weight: bold\">1277</span>, <span style=\"color: #008080; text-decoration-color: #008080; font-weight: bold\">1285</span><span style=\"font-weight: bold\">]</span>, <span style=\"color: #008000; text-decoration-color: #008000\">'priority'</span>: <span style=\"color: #008080; text-decoration-color: #008080; font-weight: bold\">1</span>, <span style=\"color: #008000; text-decoration-color: #008000\">'progress'</span>: <span style=\"color: #008080; text-decoration-color: #008080; font-weight: bold\">0</span>, <span style=\"color: #008000; text-decoration-color: #008000\">'size'</span>: <span style=\"color: #008080; text-decoration-color: #008080; font-weight: bold\">65753642</span>, <span style=\"color: #008000; text-decoration-color: #008000\">'id'</span>: <span style=\"color: #008080; text-decoration-color: #008080; font-weight: bold\">1</span><span style=\"font-weight: bold\">})</span>,\n",
       "    <span style=\"color: #800080; text-decoration-color: #800080; font-weight: bold\">TorrentFile</span><span style=\"font-weight: bold\">({</span><span style=\"color: #008000; text-decoration-color: #008000\">'availability'</span>: <span style=\"color: #008080; text-decoration-color: #008080; font-weight: bold\">1</span>, <span style=\"color: #008000; text-decoration-color: #008000\">'index'</span>: <span style=\"color: #008080; text-decoration-color: #008080; font-weight: bold\">2</span>, <span style=\"color: #008000; text-decoration-color: #008000\">'name'</span>: <span style=\"color: #008000; text-decoration-color: #008000\">'mide-724/安卓二维码.png'</span>, <span style=\"color: #008000; text-decoration-color: #008000\">'piece_range'</span>: <span style=\"font-weight: bold\">[</span><span style=\"color: #008080; text-decoration-color: #008080; font-weight: bold\">1285</span>, <span style=\"color: #008080; text-decoration-color: #008080; font-weight: bold\">1285</span><span style=\"font-weight: bold\">]</span>, \n",
       "<span style=\"color: #008000; text-decoration-color: #008000\">'priority'</span>: <span style=\"color: #008080; text-decoration-color: #008080; font-weight: bold\">1</span>, <span style=\"color: #008000; text-decoration-color: #008000\">'progress'</span>: <span style=\"color: #008080; text-decoration-color: #008080; font-weight: bold\">0</span>, <span style=\"color: #008000; text-decoration-color: #008000\">'size'</span>: <span style=\"color: #008080; text-decoration-color: #008080; font-weight: bold\">23947</span>, <span style=\"color: #008000; text-decoration-color: #008000\">'id'</span>: <span style=\"color: #008080; text-decoration-color: #008080; font-weight: bold\">2</span><span style=\"font-weight: bold\">})</span>,\n",
       "    <span style=\"color: #800080; text-decoration-color: #800080; font-weight: bold\">TorrentFile</span><span style=\"font-weight: bold\">({</span><span style=\"color: #008000; text-decoration-color: #008000\">'availability'</span>: <span style=\"color: #008080; text-decoration-color: #008080; font-weight: bold\">1</span>, <span style=\"color: #008000; text-decoration-color: #008000\">'index'</span>: <span style=\"color: #008080; text-decoration-color: #008080; font-weight: bold\">3</span>, <span style=\"color: #008000; text-decoration-color: #008000\">'name'</span>: <span style=\"color: #008000; text-decoration-color: #008000\">'mide-724/扫码获取最新地址.png'</span>, <span style=\"color: #008000; text-decoration-color: #008000\">'piece_range'</span>: <span style=\"font-weight: bold\">[</span><span style=\"color: #008080; text-decoration-color: #008080; font-weight: bold\">1285</span>, \n",
       "<span style=\"color: #008080; text-decoration-color: #008080; font-weight: bold\">1285</span><span style=\"font-weight: bold\">]</span>, <span style=\"color: #008000; text-decoration-color: #008000\">'priority'</span>: <span style=\"color: #008080; text-decoration-color: #008080; font-weight: bold\">1</span>, <span style=\"color: #008000; text-decoration-color: #008000\">'progress'</span>: <span style=\"color: #008080; text-decoration-color: #008080; font-weight: bold\">0</span>, <span style=\"color: #008000; text-decoration-color: #008000\">'size'</span>: <span style=\"color: #008080; text-decoration-color: #008080; font-weight: bold\">22116</span>, <span style=\"color: #008000; text-decoration-color: #008000\">'id'</span>: <span style=\"color: #008080; text-decoration-color: #008080; font-weight: bold\">3</span><span style=\"font-weight: bold\">})</span>,\n",
       "    <span style=\"color: #800080; text-decoration-color: #800080; font-weight: bold\">TorrentFile</span><span style=\"font-weight: bold\">({</span><span style=\"color: #008000; text-decoration-color: #008000\">'availability'</span>: <span style=\"color: #008080; text-decoration-color: #008080; font-weight: bold\">1</span>, <span style=\"color: #008000; text-decoration-color: #008000\">'index'</span>: <span style=\"color: #008080; text-decoration-color: #008080; font-weight: bold\">4</span>, <span style=\"color: #008000; text-decoration-color: #008000\">'name'</span>: <span style=\"color: #008000; text-decoration-color: #008000\">'mide-724/最新地址获取.txt'</span>, <span style=\"color: #008000; text-decoration-color: #008000\">'piece_range'</span>: <span style=\"font-weight: bold\">[</span><span style=\"color: #008080; text-decoration-color: #008080; font-weight: bold\">1285</span>, <span style=\"color: #008080; text-decoration-color: #008080; font-weight: bold\">1285</span><span style=\"font-weight: bold\">]</span>, \n",
       "<span style=\"color: #008000; text-decoration-color: #008000\">'priority'</span>: <span style=\"color: #008080; text-decoration-color: #008080; font-weight: bold\">1</span>, <span style=\"color: #008000; text-decoration-color: #008000\">'progress'</span>: <span style=\"color: #008080; text-decoration-color: #008080; font-weight: bold\">0</span>, <span style=\"color: #008000; text-decoration-color: #008000\">'size'</span>: <span style=\"color: #008080; text-decoration-color: #008080; font-weight: bold\">202</span>, <span style=\"color: #008000; text-decoration-color: #008000\">'id'</span>: <span style=\"color: #008080; text-decoration-color: #008080; font-weight: bold\">4</span><span style=\"font-weight: bold\">})</span>\n",
       "<span style=\"font-weight: bold\">]</span>\n",
       "</pre>\n"
      ],
      "text/plain": [
       "\u001b[1m[\u001b[0m\n",
       "    \u001b[1;35mTorrentFile\u001b[0m\u001b[1m(\u001b[0m\u001b[1m{\u001b[0m\u001b[32m'availability'\u001b[0m: \u001b[1;36m0.08528951486697965\u001b[0m, \u001b[32m'index'\u001b[0m: \u001b[1;36m0\u001b[0m, \u001b[32m'is_seed'\u001b[0m: \u001b[3;91mFalse\u001b[0m, \u001b[32m'name'\u001b[0m: \n",
       "\u001b[32m'mide-724/mide-724.mp4'\u001b[0m, \u001b[32m'piece_range'\u001b[0m: \u001b[1m[\u001b[0m\u001b[1;36m0\u001b[0m, \u001b[1;36m1277\u001b[0m\u001b[1m]\u001b[0m, \u001b[32m'priority'\u001b[0m: \u001b[1;36m1\u001b[0m, \u001b[32m'progress'\u001b[0m: \u001b[1;36m0.01722359988798177\u001b[0m, \u001b[32m'size'\u001b[0m: \n",
       "\u001b[1;36m10714913096\u001b[0m, \u001b[32m'id'\u001b[0m: \u001b[1;36m0\u001b[0m\u001b[1m}\u001b[0m\u001b[1m)\u001b[0m,\n",
       "    \u001b[1;35mTorrentFile\u001b[0m\u001b[1m(\u001b[0m\u001b[1m{\u001b[0m\u001b[32m'availability'\u001b[0m: \u001b[1;36m0.3333333333333333\u001b[0m, \u001b[32m'index'\u001b[0m: \u001b[1;36m1\u001b[0m, \u001b[32m'name'\u001b[0m: \u001b[32m'mide-724/UUE29.mp4'\u001b[0m, \u001b[32m'piece_range'\u001b[0m: \n",
       "\u001b[1m[\u001b[0m\u001b[1;36m1277\u001b[0m, \u001b[1;36m1285\u001b[0m\u001b[1m]\u001b[0m, \u001b[32m'priority'\u001b[0m: \u001b[1;36m1\u001b[0m, \u001b[32m'progress'\u001b[0m: \u001b[1;36m0\u001b[0m, \u001b[32m'size'\u001b[0m: \u001b[1;36m65753642\u001b[0m, \u001b[32m'id'\u001b[0m: \u001b[1;36m1\u001b[0m\u001b[1m}\u001b[0m\u001b[1m)\u001b[0m,\n",
       "    \u001b[1;35mTorrentFile\u001b[0m\u001b[1m(\u001b[0m\u001b[1m{\u001b[0m\u001b[32m'availability'\u001b[0m: \u001b[1;36m1\u001b[0m, \u001b[32m'index'\u001b[0m: \u001b[1;36m2\u001b[0m, \u001b[32m'name'\u001b[0m: \u001b[32m'mide-724/安卓二维码.png'\u001b[0m, \u001b[32m'piece_range'\u001b[0m: \u001b[1m[\u001b[0m\u001b[1;36m1285\u001b[0m, \u001b[1;36m1285\u001b[0m\u001b[1m]\u001b[0m, \n",
       "\u001b[32m'priority'\u001b[0m: \u001b[1;36m1\u001b[0m, \u001b[32m'progress'\u001b[0m: \u001b[1;36m0\u001b[0m, \u001b[32m'size'\u001b[0m: \u001b[1;36m23947\u001b[0m, \u001b[32m'id'\u001b[0m: \u001b[1;36m2\u001b[0m\u001b[1m}\u001b[0m\u001b[1m)\u001b[0m,\n",
       "    \u001b[1;35mTorrentFile\u001b[0m\u001b[1m(\u001b[0m\u001b[1m{\u001b[0m\u001b[32m'availability'\u001b[0m: \u001b[1;36m1\u001b[0m, \u001b[32m'index'\u001b[0m: \u001b[1;36m3\u001b[0m, \u001b[32m'name'\u001b[0m: \u001b[32m'mide-724/扫码获取最新地址.png'\u001b[0m, \u001b[32m'piece_range'\u001b[0m: \u001b[1m[\u001b[0m\u001b[1;36m1285\u001b[0m, \n",
       "\u001b[1;36m1285\u001b[0m\u001b[1m]\u001b[0m, \u001b[32m'priority'\u001b[0m: \u001b[1;36m1\u001b[0m, \u001b[32m'progress'\u001b[0m: \u001b[1;36m0\u001b[0m, \u001b[32m'size'\u001b[0m: \u001b[1;36m22116\u001b[0m, \u001b[32m'id'\u001b[0m: \u001b[1;36m3\u001b[0m\u001b[1m}\u001b[0m\u001b[1m)\u001b[0m,\n",
       "    \u001b[1;35mTorrentFile\u001b[0m\u001b[1m(\u001b[0m\u001b[1m{\u001b[0m\u001b[32m'availability'\u001b[0m: \u001b[1;36m1\u001b[0m, \u001b[32m'index'\u001b[0m: \u001b[1;36m4\u001b[0m, \u001b[32m'name'\u001b[0m: \u001b[32m'mide-724/最新地址获取.txt'\u001b[0m, \u001b[32m'piece_range'\u001b[0m: \u001b[1m[\u001b[0m\u001b[1;36m1285\u001b[0m, \u001b[1;36m1285\u001b[0m\u001b[1m]\u001b[0m, \n",
       "\u001b[32m'priority'\u001b[0m: \u001b[1;36m1\u001b[0m, \u001b[32m'progress'\u001b[0m: \u001b[1;36m0\u001b[0m, \u001b[32m'size'\u001b[0m: \u001b[1;36m202\u001b[0m, \u001b[32m'id'\u001b[0m: \u001b[1;36m4\u001b[0m\u001b[1m}\u001b[0m\u001b[1m)\u001b[0m\n",
       "\u001b[1m]\u001b[0m\n"
      ]
     },
     "metadata": {},
     "output_type": "display_data"
    },
    {
     "data": {
      "text/html": [
       "<pre style=\"white-space:pre;overflow-x:auto;line-height:normal;font-family:Menlo,'DejaVu Sans Mono',consolas,'Courier New',monospace\"><span style=\"font-weight: bold\">{</span><span style=\"color: #008000; text-decoration-color: #008000\">'_sequence_type'</span>: <span style=\"font-weight: bold\">&lt;</span><span style=\"color: #ff00ff; text-decoration-color: #ff00ff; font-weight: bold\">class</span><span style=\"color: #000000; text-decoration-color: #000000\"> </span><span style=\"color: #008000; text-decoration-color: #008000\">'tuple'</span><span style=\"font-weight: bold\">&gt;</span>, <span style=\"color: #008000; text-decoration-color: #008000\">'_allow_invalid_attributes'</span>: <span style=\"color: #00ff00; text-decoration-color: #00ff00; font-style: italic\">True</span><span style=\"font-weight: bold\">}</span>\n",
       "</pre>\n"
      ],
      "text/plain": [
       "\u001b[1m{\u001b[0m\u001b[32m'_sequence_type'\u001b[0m: \u001b[1m<\u001b[0m\u001b[1;95mclass\u001b[0m\u001b[39m \u001b[0m\u001b[32m'tuple'\u001b[0m\u001b[1m>\u001b[0m, \u001b[32m'_allow_invalid_attributes'\u001b[0m: \u001b[3;92mTrue\u001b[0m\u001b[1m}\u001b[0m\n"
      ]
     },
     "metadata": {},
     "output_type": "display_data"
    },
    {
     "data": {
      "text/plain": [
       "TorrentFile({'availability': 1, 'index': 4, 'name': 'mide-724/最新地址获取.txt', 'piece_range': [1285, 1285], 'priority': 1, 'progress': 0, 'size': 202, 'id': 4})"
      ]
     },
     "execution_count": 15,
     "metadata": {},
     "output_type": "execute_result"
    }
   ],
   "source": [
    "# retrieve and show all torrents\n",
    "# for torrent in qbt_client.torrents_info():\n",
    "#     print(f\"{torrent.hash[-6:]}: {torrent.name} ({torrent.state})\")\n",
    "#     print(torrent.files)\n",
    "#     break\n",
    "\n",
    "x = qbt_client.torrents_info()[0]\n",
    "# print(x)\n",
    "\n",
    "f = qbt_client.torrents_info()[0].files\n",
    "print(f)\n",
    "\n",
    "ff = f[4]\n",
    "print(ff.__dict__)\n",
    "\n",
    "ff."
   ]
  },
  {
   "cell_type": "code",
   "execution_count": null,
   "metadata": {},
   "outputs": [],
   "source": []
  }
 ],
 "metadata": {
  "kernelspec": {
   "display_name": "web",
   "language": "python",
   "name": "python3"
  },
  "language_info": {
   "codemirror_mode": {
    "name": "ipython",
    "version": 3
   },
   "file_extension": ".py",
   "mimetype": "text/x-python",
   "name": "python",
   "nbconvert_exporter": "python",
   "pygments_lexer": "ipython3",
   "version": "3.12.4"
  }
 },
 "nbformat": 4,
 "nbformat_minor": 2
}
