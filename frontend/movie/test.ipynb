{
 "cells": [
  {
   "cell_type": "code",
   "execution_count": 2,
   "metadata": {},
   "outputs": [
    {
     "name": "stdout",
     "output_type": "stream",
     "text": [
      "Successfully deleted: \\\\10.16.12.105\\disk\\D\\Adult\\D\\DVD\\dvdms-975\n"
     ]
    }
   ],
   "source": [
    "import os\n",
    "import shutil\n",
    "\n",
    "def delete_network_path(network_path):\n",
    "    try:\n",
    "        # 将路径转换为标准的文件系统路径\n",
    "        network_path = network_path.replace('file://', '')\n",
    "\n",
    "        # 修改文件和目录权限（如果需要）\n",
    "        for root, dirs, files in os.walk(network_path):\n",
    "            for dir in dirs:\n",
    "                os.chmod(os.path.join(root, dir), 0o777)\n",
    "            for file in files:\n",
    "                os.chmod(os.path.join(root, file), 0o777)\n",
    "\n",
    "        # 删除目录及其内容\n",
    "        shutil.rmtree(network_path)\n",
    "        print(f\"Successfully deleted: {network_path}\")\n",
    "    except Exception as e:\n",
    "        print(f\"Error deleting {network_path}: {e}\")\n",
    "\n",
    "# 示例网络路径\n",
    "network_path = r'\\\\10.16.12.105\\disk\\D\\Adult\\D\\DVD\\dvdms-975'\n",
    "\n",
    "# 删除网络路径上的文件和目录\n",
    "delete_network_path(network_path)"
   ]
  }
 ],
 "metadata": {
  "kernelspec": {
   "display_name": "web",
   "language": "python",
   "name": "python3"
  },
  "language_info": {
   "codemirror_mode": {
    "name": "ipython",
    "version": 3
   },
   "file_extension": ".py",
   "mimetype": "text/x-python",
   "name": "python",
   "nbconvert_exporter": "python",
   "pygments_lexer": "ipython3",
   "version": "3.12.4"
  }
 },
 "nbformat": 4,
 "nbformat_minor": 2
}
